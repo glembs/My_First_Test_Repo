{
  "nbformat": 4,
  "nbformat_minor": 0,
  "metadata": {
    "colab": {
      "provenance": [],
      "authorship_tag": "ABX9TyPqA62RS7v4gWI9vmfGmRK8"
    },
    "kernelspec": {
      "name": "python3",
      "display_name": "Python 3"
    },
    "language_info": {
      "name": "python"
    }
  },
  "cells": [
    {
      "cell_type": "markdown",
      "source": [
        "\n",
        "# Тестовый пример для лабораторной работы 1\n",
        "\n",
        "Тут есть:\n",
        "\n",
        "1. Картинка\n",
        "2. Ссылка\n",
        "3. Таблица\n",
        "4. Список\n",
        "\n",
        "\n",
        "![An image](https://facultetus.ru/images/logos/c98378f409dfdeecabbcd3c6e02bd984.png)\n",
        "\n",
        "\n",
        "Ромащенко  | Гудкова | Гребенева\n",
        "-----------|---------|--------\n",
        "0  | 1 | 2\n",
        "3  | 4 | 5\n",
        "\n",
        "\n",
        "[Ссылка на лабораторные](https://drive.google.com/drive/folders/1r3mFzv6RTO8QOAl3catqUpmLpF4eSBIe)\n"
      ],
      "metadata": {
        "id": "Bg85vaxPSzIL"
      }
    }
  ]
}